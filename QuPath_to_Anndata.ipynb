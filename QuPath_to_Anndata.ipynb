{
 "cells": [
  {
   "cell_type": "code",
   "execution_count": 1,
   "metadata": {},
   "outputs": [
    {
     "name": "stderr",
     "output_type": "stream",
     "text": [
      "c:\\Users\\jnimoca\\Jose_BI\\Anaconda\\envs\\scimap5\\lib\\site-packages\\tqdm\\auto.py:21: TqdmWarning:\n",
      "\n",
      "IProgress not found. Please update jupyter and ipywidgets. See https://ipywidgets.readthedocs.io/en/stable/user_install.html\n",
      "\n"
     ]
    }
   ],
   "source": [
    "#imports\n",
    "import geopandas\n",
    "import pandas as pd\n",
    "import numpy as np\n",
    "import os\n",
    "import datetime as dt\n",
    "\n",
    "import tifffile\n",
    "import string\n",
    "\n",
    "from shapely.geometry import Point, LineString\n",
    "\n",
    "import scimap as sm"
   ]
  },
  {
   "cell_type": "code",
   "execution_count": 2,
   "metadata": {},
   "outputs": [
    {
     "data": {
      "text/plain": [
       "'c:\\\\Users\\\\jnimoca\\\\Jose_BI\\\\Projects---Repositories\\\\9_Qupath_to_AnnData\\\\QuPath_Annotation_to_AnnData'"
      ]
     },
     "execution_count": 2,
     "metadata": {},
     "output_type": "execute_result"
    }
   ],
   "source": [
    "os.getcwd()"
   ]
  },
  {
   "cell_type": "code",
   "execution_count": 3,
   "metadata": {},
   "outputs": [
    {
     "data": {
      "text/plain": [
       "['.git',\n",
       " 'LICENSE',\n",
       " 'QuPath_to_Anndata.ipynb',\n",
       " 'README.md',\n",
       " 'TestData(MCMICROExemplar001)']"
      ]
     },
     "execution_count": 3,
     "metadata": {},
     "output_type": "execute_result"
    }
   ],
   "source": [
    "os.listdir()"
   ]
  },
  {
   "cell_type": "code",
   "execution_count": 4,
   "metadata": {},
   "outputs": [],
   "source": [
    "path_to_geojson = r'./TestData(MCMICROExemplar001)/Test_QuPath_Project/Exemplar001_subset.geojson'"
   ]
  },
  {
   "cell_type": "code",
   "execution_count": 5,
   "metadata": {},
   "outputs": [],
   "source": [
    "df = geopandas.read_file(path_to_geojson)"
   ]
  },
  {
   "cell_type": "code",
   "execution_count": 6,
   "metadata": {},
   "outputs": [
    {
     "data": {
      "text/html": [
       "<div>\n",
       "<style scoped>\n",
       "    .dataframe tbody tr th:only-of-type {\n",
       "        vertical-align: middle;\n",
       "    }\n",
       "\n",
       "    .dataframe tbody tr th {\n",
       "        vertical-align: top;\n",
       "    }\n",
       "\n",
       "    .dataframe thead th {\n",
       "        text-align: right;\n",
       "    }\n",
       "</style>\n",
       "<table border=\"1\" class=\"dataframe\">\n",
       "  <thead>\n",
       "    <tr style=\"text-align: right;\">\n",
       "      <th></th>\n",
       "      <th>id</th>\n",
       "      <th>objectType</th>\n",
       "      <th>classification</th>\n",
       "      <th>geometry</th>\n",
       "    </tr>\n",
       "  </thead>\n",
       "  <tbody>\n",
       "    <tr>\n",
       "      <th>0</th>\n",
       "      <td>6fbbca87-42f3-4633-ab10-87a6e88c77ad</td>\n",
       "      <td>annotation</td>\n",
       "      <td>{'name': 'Immune_Cluster', 'color': [55, 46, 21]}</td>\n",
       "      <td>POLYGON ((852.00000 400.00000, 850.00000 401.0...</td>\n",
       "    </tr>\n",
       "    <tr>\n",
       "      <th>1</th>\n",
       "      <td>6a957ec1-4a70-4886-af48-2dfa302b7456</td>\n",
       "      <td>annotation</td>\n",
       "      <td>{'name': 'Immune_Cluster', 'color': [55, 46, 21]}</td>\n",
       "      <td>POLYGON ((953.00000 598.00000, 951.00000 599.0...</td>\n",
       "    </tr>\n",
       "    <tr>\n",
       "      <th>2</th>\n",
       "      <td>7eb79eb4-241f-4929-a4c9-3a83623df6a0</td>\n",
       "      <td>annotation</td>\n",
       "      <td>{'name': 'Immune_Cluster', 'color': [55, 46, 21]}</td>\n",
       "      <td>POLYGON ((679.00000 644.00000, 677.00000 645.0...</td>\n",
       "    </tr>\n",
       "    <tr>\n",
       "      <th>3</th>\n",
       "      <td>a09a6107-ffe2-4190-a131-f8553e24fa8d</td>\n",
       "      <td>annotation</td>\n",
       "      <td>{'name': 'Epithelial_Cluster', 'color': [42, 2...</td>\n",
       "      <td>POLYGON ((305.00000 204.00000, 304.00000 204.5...</td>\n",
       "    </tr>\n",
       "    <tr>\n",
       "      <th>4</th>\n",
       "      <td>89e85395-65dd-438b-9231-ba2160e22081</td>\n",
       "      <td>annotation</td>\n",
       "      <td>{'name': 'Epithelial_Cluster', 'color': [42, 2...</td>\n",
       "      <td>POLYGON ((133.00000 607.00000, 126.00000 608.0...</td>\n",
       "    </tr>\n",
       "  </tbody>\n",
       "</table>\n",
       "</div>"
      ],
      "text/plain": [
       "                                     id  objectType  \\\n",
       "0  6fbbca87-42f3-4633-ab10-87a6e88c77ad  annotation   \n",
       "1  6a957ec1-4a70-4886-af48-2dfa302b7456  annotation   \n",
       "2  7eb79eb4-241f-4929-a4c9-3a83623df6a0  annotation   \n",
       "3  a09a6107-ffe2-4190-a131-f8553e24fa8d  annotation   \n",
       "4  89e85395-65dd-438b-9231-ba2160e22081  annotation   \n",
       "\n",
       "                                      classification  \\\n",
       "0  {'name': 'Immune_Cluster', 'color': [55, 46, 21]}   \n",
       "1  {'name': 'Immune_Cluster', 'color': [55, 46, 21]}   \n",
       "2  {'name': 'Immune_Cluster', 'color': [55, 46, 21]}   \n",
       "3  {'name': 'Epithelial_Cluster', 'color': [42, 2...   \n",
       "4  {'name': 'Epithelial_Cluster', 'color': [42, 2...   \n",
       "\n",
       "                                            geometry  \n",
       "0  POLYGON ((852.00000 400.00000, 850.00000 401.0...  \n",
       "1  POLYGON ((953.00000 598.00000, 951.00000 599.0...  \n",
       "2  POLYGON ((679.00000 644.00000, 677.00000 645.0...  \n",
       "3  POLYGON ((305.00000 204.00000, 304.00000 204.5...  \n",
       "4  POLYGON ((133.00000 607.00000, 126.00000 608.0...  "
      ]
     },
     "execution_count": 6,
     "metadata": {},
     "output_type": "execute_result"
    }
   ],
   "source": [
    "df.head()"
   ]
  },
  {
   "cell_type": "code",
   "execution_count": 7,
   "metadata": {},
   "outputs": [
    {
     "name": "stdout",
     "output_type": "stream",
     "text": [
      "Loading Exemplar001_subset--unmicst_cell.csv\n"
     ]
    }
   ],
   "source": [
    "#load adata using scimap\n",
    "path_to_csv = r'TestData(MCMICROExemplar001)\\quantification\\Exemplar001_subset--unmicst_cell.csv'\n",
    "adata = sm.pp.mcmicro_to_scimap(path_to_csv)"
   ]
  },
  {
   "cell_type": "code",
   "execution_count": 11,
   "metadata": {},
   "outputs": [
    {
     "data": {
      "text/html": [
       "<div>\n",
       "<style scoped>\n",
       "    .dataframe tbody tr th:only-of-type {\n",
       "        vertical-align: middle;\n",
       "    }\n",
       "\n",
       "    .dataframe tbody tr th {\n",
       "        vertical-align: top;\n",
       "    }\n",
       "\n",
       "    .dataframe thead th {\n",
       "        text-align: right;\n",
       "    }\n",
       "</style>\n",
       "<table border=\"1\" class=\"dataframe\">\n",
       "  <thead>\n",
       "    <tr style=\"text-align: right;\">\n",
       "      <th></th>\n",
       "      <th>X_centroid</th>\n",
       "      <th>Y_centroid</th>\n",
       "    </tr>\n",
       "  </thead>\n",
       "  <tbody>\n",
       "    <tr>\n",
       "      <th>Exemplar001_subset--unmicst_cell_1</th>\n",
       "      <td>843.522727</td>\n",
       "      <td>102.193182</td>\n",
       "    </tr>\n",
       "    <tr>\n",
       "      <th>Exemplar001_subset--unmicst_cell_2</th>\n",
       "      <td>704.806122</td>\n",
       "      <td>111.214286</td>\n",
       "    </tr>\n",
       "    <tr>\n",
       "      <th>Exemplar001_subset--unmicst_cell_3</th>\n",
       "      <td>740.188119</td>\n",
       "      <td>111.495050</td>\n",
       "    </tr>\n",
       "    <tr>\n",
       "      <th>Exemplar001_subset--unmicst_cell_4</th>\n",
       "      <td>830.303571</td>\n",
       "      <td>111.714286</td>\n",
       "    </tr>\n",
       "    <tr>\n",
       "      <th>Exemplar001_subset--unmicst_cell_5</th>\n",
       "      <td>876.942708</td>\n",
       "      <td>116.653646</td>\n",
       "    </tr>\n",
       "    <tr>\n",
       "      <th>...</th>\n",
       "      <td>...</td>\n",
       "      <td>...</td>\n",
       "    </tr>\n",
       "    <tr>\n",
       "      <th>Exemplar001_subset--unmicst_cell_3105</th>\n",
       "      <td>1496.194444</td>\n",
       "      <td>952.763889</td>\n",
       "    </tr>\n",
       "    <tr>\n",
       "      <th>Exemplar001_subset--unmicst_cell_3106</th>\n",
       "      <td>896.326531</td>\n",
       "      <td>953.367347</td>\n",
       "    </tr>\n",
       "    <tr>\n",
       "      <th>Exemplar001_subset--unmicst_cell_3107</th>\n",
       "      <td>1206.057971</td>\n",
       "      <td>953.217391</td>\n",
       "    </tr>\n",
       "    <tr>\n",
       "      <th>Exemplar001_subset--unmicst_cell_3108</th>\n",
       "      <td>751.673913</td>\n",
       "      <td>953.456522</td>\n",
       "    </tr>\n",
       "    <tr>\n",
       "      <th>Exemplar001_subset--unmicst_cell_3109</th>\n",
       "      <td>1583.357143</td>\n",
       "      <td>953.595238</td>\n",
       "    </tr>\n",
       "  </tbody>\n",
       "</table>\n",
       "<p>3109 rows × 2 columns</p>\n",
       "</div>"
      ],
      "text/plain": [
       "                                        X_centroid  Y_centroid\n",
       "Exemplar001_subset--unmicst_cell_1      843.522727  102.193182\n",
       "Exemplar001_subset--unmicst_cell_2      704.806122  111.214286\n",
       "Exemplar001_subset--unmicst_cell_3      740.188119  111.495050\n",
       "Exemplar001_subset--unmicst_cell_4      830.303571  111.714286\n",
       "Exemplar001_subset--unmicst_cell_5      876.942708  116.653646\n",
       "...                                            ...         ...\n",
       "Exemplar001_subset--unmicst_cell_3105  1496.194444  952.763889\n",
       "Exemplar001_subset--unmicst_cell_3106   896.326531  953.367347\n",
       "Exemplar001_subset--unmicst_cell_3107  1206.057971  953.217391\n",
       "Exemplar001_subset--unmicst_cell_3108   751.673913  953.456522\n",
       "Exemplar001_subset--unmicst_cell_3109  1583.357143  953.595238\n",
       "\n",
       "[3109 rows x 2 columns]"
      ]
     },
     "execution_count": 11,
     "metadata": {},
     "output_type": "execute_result"
    }
   ],
   "source": [
    "adata.obs[['X_centroid', 'Y_centroid']]"
   ]
  },
  {
   "cell_type": "code",
   "execution_count": 16,
   "metadata": {},
   "outputs": [
    {
     "name": "stdout",
     "output_type": "stream",
     "text": [
      "1828.7128712871288 2.075 953.595238095238 102.1931818181818\n"
     ]
    }
   ],
   "source": [
    "print( adata.obs.X_centroid.max(),\n",
    "adata.obs.X_centroid.min(),\n",
    "adata.obs.Y_centroid.max(),\n",
    "adata.obs.Y_centroid.min())"
   ]
  },
  {
   "cell_type": "code",
   "execution_count": 13,
   "metadata": {},
   "outputs": [],
   "source": [
    "import skimage.io as io"
   ]
  },
  {
   "cell_type": "code",
   "execution_count": 14,
   "metadata": {},
   "outputs": [],
   "source": [
    "image = io.imread(r'TestData(MCMICROExemplar001)\\registration\\Exemplar001_subset.tif')"
   ]
  },
  {
   "cell_type": "code",
   "execution_count": 15,
   "metadata": {},
   "outputs": [
    {
     "data": {
      "text/plain": [
       "(12, 957, 1833)"
      ]
     },
     "execution_count": 15,
     "metadata": {},
     "output_type": "execute_result"
    }
   ],
   "source": [
    "image.shape"
   ]
  },
  {
   "cell_type": "code",
   "execution_count": null,
   "metadata": {},
   "outputs": [],
   "source": [
    "#we need a pixel to um conversion factor\n",
    "#no we dont"
   ]
  },
  {
   "cell_type": "code",
   "execution_count": 18,
   "metadata": {},
   "outputs": [],
   "source": [
    "geometry=geopandas.points_from_xy(adata.obs.X_centroid, adata.obs.Y_centroid)"
   ]
  },
  {
   "cell_type": "code",
   "execution_count": 19,
   "metadata": {},
   "outputs": [
    {
     "data": {
      "text/plain": [
       "<GeometryArray>\n",
       "[<shapely.geometry.point.Point object at 0x000001E1D0963D90>,\n",
       " <shapely.geometry.point.Point object at 0x000001E1D0963E80>,\n",
       " <shapely.geometry.point.Point object at 0x000001E1D09637C0>,\n",
       " <shapely.geometry.point.Point object at 0x000001E1D0976A90>,\n",
       " <shapely.geometry.point.Point object at 0x000001E1D0976130>,\n",
       " <shapely.geometry.point.Point object at 0x000001E1D04A9FD0>,\n",
       " <shapely.geometry.point.Point object at 0x000001E1D04A9C40>,\n",
       " <shapely.geometry.point.Point object at 0x000001E1D3659610>,\n",
       " <shapely.geometry.point.Point object at 0x000001E1D3659700>,\n",
       " <shapely.geometry.point.Point object at 0x000001E1D36597F0>,\n",
       " ...\n",
       " <shapely.geometry.point.Point object at 0x000001E1D36D8BE0>,\n",
       " <shapely.geometry.point.Point object at 0x000001E1D36D8C40>,\n",
       " <shapely.geometry.point.Point object at 0x000001E1D36D8CA0>,\n",
       " <shapely.geometry.point.Point object at 0x000001E1D36D8D00>,\n",
       " <shapely.geometry.point.Point object at 0x000001E1D36D8D60>,\n",
       " <shapely.geometry.point.Point object at 0x000001E1D36D8DC0>,\n",
       " <shapely.geometry.point.Point object at 0x000001E1D36D8E20>,\n",
       " <shapely.geometry.point.Point object at 0x000001E1D36D8E80>,\n",
       " <shapely.geometry.point.Point object at 0x000001E1D36D8EE0>,\n",
       " <shapely.geometry.point.Point object at 0x000001E1D36D8F40>]\n",
       "Length: 3109, dtype: geometry"
      ]
     },
     "execution_count": 19,
     "metadata": {},
     "output_type": "execute_result"
    }
   ],
   "source": [
    "geometry"
   ]
  },
  {
   "cell_type": "code",
   "execution_count": 21,
   "metadata": {},
   "outputs": [
    {
     "data": {
      "text/plain": [
       "False"
      ]
     },
     "execution_count": 21,
     "metadata": {},
     "output_type": "execute_result"
    }
   ],
   "source": [
    "df.geometry[0].contains(geometry[0])"
   ]
  },
  {
   "cell_type": "code",
   "execution_count": 22,
   "metadata": {},
   "outputs": [
    {
     "data": {
      "text/html": [
       "<div>\n",
       "<style scoped>\n",
       "    .dataframe tbody tr th:only-of-type {\n",
       "        vertical-align: middle;\n",
       "    }\n",
       "\n",
       "    .dataframe tbody tr th {\n",
       "        vertical-align: top;\n",
       "    }\n",
       "\n",
       "    .dataframe thead th {\n",
       "        text-align: right;\n",
       "    }\n",
       "</style>\n",
       "<table border=\"1\" class=\"dataframe\">\n",
       "  <thead>\n",
       "    <tr style=\"text-align: right;\">\n",
       "      <th></th>\n",
       "      <th>id</th>\n",
       "      <th>objectType</th>\n",
       "      <th>classification</th>\n",
       "      <th>geometry</th>\n",
       "    </tr>\n",
       "  </thead>\n",
       "  <tbody>\n",
       "    <tr>\n",
       "      <th>0</th>\n",
       "      <td>6fbbca87-42f3-4633-ab10-87a6e88c77ad</td>\n",
       "      <td>annotation</td>\n",
       "      <td>{'name': 'Immune_Cluster', 'color': [55, 46, 21]}</td>\n",
       "      <td>POLYGON ((852.00000 400.00000, 850.00000 401.0...</td>\n",
       "    </tr>\n",
       "    <tr>\n",
       "      <th>1</th>\n",
       "      <td>6a957ec1-4a70-4886-af48-2dfa302b7456</td>\n",
       "      <td>annotation</td>\n",
       "      <td>{'name': 'Immune_Cluster', 'color': [55, 46, 21]}</td>\n",
       "      <td>POLYGON ((953.00000 598.00000, 951.00000 599.0...</td>\n",
       "    </tr>\n",
       "    <tr>\n",
       "      <th>2</th>\n",
       "      <td>7eb79eb4-241f-4929-a4c9-3a83623df6a0</td>\n",
       "      <td>annotation</td>\n",
       "      <td>{'name': 'Immune_Cluster', 'color': [55, 46, 21]}</td>\n",
       "      <td>POLYGON ((679.00000 644.00000, 677.00000 645.0...</td>\n",
       "    </tr>\n",
       "    <tr>\n",
       "      <th>3</th>\n",
       "      <td>a09a6107-ffe2-4190-a131-f8553e24fa8d</td>\n",
       "      <td>annotation</td>\n",
       "      <td>{'name': 'Epithelial_Cluster', 'color': [42, 2...</td>\n",
       "      <td>POLYGON ((305.00000 204.00000, 304.00000 204.5...</td>\n",
       "    </tr>\n",
       "    <tr>\n",
       "      <th>4</th>\n",
       "      <td>89e85395-65dd-438b-9231-ba2160e22081</td>\n",
       "      <td>annotation</td>\n",
       "      <td>{'name': 'Epithelial_Cluster', 'color': [42, 2...</td>\n",
       "      <td>POLYGON ((133.00000 607.00000, 126.00000 608.0...</td>\n",
       "    </tr>\n",
       "  </tbody>\n",
       "</table>\n",
       "</div>"
      ],
      "text/plain": [
       "                                     id  objectType  \\\n",
       "0  6fbbca87-42f3-4633-ab10-87a6e88c77ad  annotation   \n",
       "1  6a957ec1-4a70-4886-af48-2dfa302b7456  annotation   \n",
       "2  7eb79eb4-241f-4929-a4c9-3a83623df6a0  annotation   \n",
       "3  a09a6107-ffe2-4190-a131-f8553e24fa8d  annotation   \n",
       "4  89e85395-65dd-438b-9231-ba2160e22081  annotation   \n",
       "\n",
       "                                      classification  \\\n",
       "0  {'name': 'Immune_Cluster', 'color': [55, 46, 21]}   \n",
       "1  {'name': 'Immune_Cluster', 'color': [55, 46, 21]}   \n",
       "2  {'name': 'Immune_Cluster', 'color': [55, 46, 21]}   \n",
       "3  {'name': 'Epithelial_Cluster', 'color': [42, 2...   \n",
       "4  {'name': 'Epithelial_Cluster', 'color': [42, 2...   \n",
       "\n",
       "                                            geometry  \n",
       "0  POLYGON ((852.00000 400.00000, 850.00000 401.0...  \n",
       "1  POLYGON ((953.00000 598.00000, 951.00000 599.0...  \n",
       "2  POLYGON ((679.00000 644.00000, 677.00000 645.0...  \n",
       "3  POLYGON ((305.00000 204.00000, 304.00000 204.5...  \n",
       "4  POLYGON ((133.00000 607.00000, 126.00000 608.0...  "
      ]
     },
     "execution_count": 22,
     "metadata": {},
     "output_type": "execute_result"
    }
   ],
   "source": [
    "df.head()"
   ]
  },
  {
   "cell_type": "code",
   "execution_count": 26,
   "metadata": {},
   "outputs": [],
   "source": [
    "def get_contour_type(df):\n",
    "    df['Name'] = np.nan\n",
    "    for i in df.index:\n",
    "        tmp = df.classification[i].get('name')\n",
    "        df.at[i,'Name'] = tmp\n",
    "    return(df)"
   ]
  },
  {
   "cell_type": "code",
   "execution_count": 27,
   "metadata": {},
   "outputs": [
    {
     "data": {
      "text/html": [
       "<div>\n",
       "<style scoped>\n",
       "    .dataframe tbody tr th:only-of-type {\n",
       "        vertical-align: middle;\n",
       "    }\n",
       "\n",
       "    .dataframe tbody tr th {\n",
       "        vertical-align: top;\n",
       "    }\n",
       "\n",
       "    .dataframe thead th {\n",
       "        text-align: right;\n",
       "    }\n",
       "</style>\n",
       "<table border=\"1\" class=\"dataframe\">\n",
       "  <thead>\n",
       "    <tr style=\"text-align: right;\">\n",
       "      <th></th>\n",
       "      <th>id</th>\n",
       "      <th>objectType</th>\n",
       "      <th>classification</th>\n",
       "      <th>geometry</th>\n",
       "      <th>Name</th>\n",
       "    </tr>\n",
       "  </thead>\n",
       "  <tbody>\n",
       "    <tr>\n",
       "      <th>0</th>\n",
       "      <td>6fbbca87-42f3-4633-ab10-87a6e88c77ad</td>\n",
       "      <td>annotation</td>\n",
       "      <td>{'name': 'Immune_Cluster', 'color': [55, 46, 21]}</td>\n",
       "      <td>POLYGON ((852.00000 400.00000, 850.00000 401.0...</td>\n",
       "      <td>Immune_Cluster</td>\n",
       "    </tr>\n",
       "    <tr>\n",
       "      <th>1</th>\n",
       "      <td>6a957ec1-4a70-4886-af48-2dfa302b7456</td>\n",
       "      <td>annotation</td>\n",
       "      <td>{'name': 'Immune_Cluster', 'color': [55, 46, 21]}</td>\n",
       "      <td>POLYGON ((953.00000 598.00000, 951.00000 599.0...</td>\n",
       "      <td>Immune_Cluster</td>\n",
       "    </tr>\n",
       "    <tr>\n",
       "      <th>2</th>\n",
       "      <td>7eb79eb4-241f-4929-a4c9-3a83623df6a0</td>\n",
       "      <td>annotation</td>\n",
       "      <td>{'name': 'Immune_Cluster', 'color': [55, 46, 21]}</td>\n",
       "      <td>POLYGON ((679.00000 644.00000, 677.00000 645.0...</td>\n",
       "      <td>Immune_Cluster</td>\n",
       "    </tr>\n",
       "    <tr>\n",
       "      <th>3</th>\n",
       "      <td>a09a6107-ffe2-4190-a131-f8553e24fa8d</td>\n",
       "      <td>annotation</td>\n",
       "      <td>{'name': 'Epithelial_Cluster', 'color': [42, 2...</td>\n",
       "      <td>POLYGON ((305.00000 204.00000, 304.00000 204.5...</td>\n",
       "      <td>Epithelial_Cluster</td>\n",
       "    </tr>\n",
       "    <tr>\n",
       "      <th>4</th>\n",
       "      <td>89e85395-65dd-438b-9231-ba2160e22081</td>\n",
       "      <td>annotation</td>\n",
       "      <td>{'name': 'Epithelial_Cluster', 'color': [42, 2...</td>\n",
       "      <td>POLYGON ((133.00000 607.00000, 126.00000 608.0...</td>\n",
       "      <td>Epithelial_Cluster</td>\n",
       "    </tr>\n",
       "    <tr>\n",
       "      <th>5</th>\n",
       "      <td>e68f0abc-f336-4c95-b179-0e395b0f93ff</td>\n",
       "      <td>annotation</td>\n",
       "      <td>{'name': 'Epithelial_Cluster', 'color': [42, 2...</td>\n",
       "      <td>POLYGON ((615.00000 92.00000, 609.00000 93.000...</td>\n",
       "      <td>Epithelial_Cluster</td>\n",
       "    </tr>\n",
       "    <tr>\n",
       "      <th>6</th>\n",
       "      <td>4315eae2-6a9c-45b4-a004-e7c9bdafda1f</td>\n",
       "      <td>annotation</td>\n",
       "      <td>{'name': 'Ignore_from_analysis', 'color': [18,...</td>\n",
       "      <td>POLYGON ((1387.00000 233.00000, 1803.00000 233...</td>\n",
       "      <td>Ignore_from_analysis</td>\n",
       "    </tr>\n",
       "  </tbody>\n",
       "</table>\n",
       "</div>"
      ],
      "text/plain": [
       "                                     id  objectType  \\\n",
       "0  6fbbca87-42f3-4633-ab10-87a6e88c77ad  annotation   \n",
       "1  6a957ec1-4a70-4886-af48-2dfa302b7456  annotation   \n",
       "2  7eb79eb4-241f-4929-a4c9-3a83623df6a0  annotation   \n",
       "3  a09a6107-ffe2-4190-a131-f8553e24fa8d  annotation   \n",
       "4  89e85395-65dd-438b-9231-ba2160e22081  annotation   \n",
       "5  e68f0abc-f336-4c95-b179-0e395b0f93ff  annotation   \n",
       "6  4315eae2-6a9c-45b4-a004-e7c9bdafda1f  annotation   \n",
       "\n",
       "                                      classification  \\\n",
       "0  {'name': 'Immune_Cluster', 'color': [55, 46, 21]}   \n",
       "1  {'name': 'Immune_Cluster', 'color': [55, 46, 21]}   \n",
       "2  {'name': 'Immune_Cluster', 'color': [55, 46, 21]}   \n",
       "3  {'name': 'Epithelial_Cluster', 'color': [42, 2...   \n",
       "4  {'name': 'Epithelial_Cluster', 'color': [42, 2...   \n",
       "5  {'name': 'Epithelial_Cluster', 'color': [42, 2...   \n",
       "6  {'name': 'Ignore_from_analysis', 'color': [18,...   \n",
       "\n",
       "                                            geometry                  Name  \n",
       "0  POLYGON ((852.00000 400.00000, 850.00000 401.0...        Immune_Cluster  \n",
       "1  POLYGON ((953.00000 598.00000, 951.00000 599.0...        Immune_Cluster  \n",
       "2  POLYGON ((679.00000 644.00000, 677.00000 645.0...        Immune_Cluster  \n",
       "3  POLYGON ((305.00000 204.00000, 304.00000 204.5...    Epithelial_Cluster  \n",
       "4  POLYGON ((133.00000 607.00000, 126.00000 608.0...    Epithelial_Cluster  \n",
       "5  POLYGON ((615.00000 92.00000, 609.00000 93.000...    Epithelial_Cluster  \n",
       "6  POLYGON ((1387.00000 233.00000, 1803.00000 233...  Ignore_from_analysis  "
      ]
     },
     "execution_count": 27,
     "metadata": {},
     "output_type": "execute_result"
    }
   ],
   "source": [
    "get_contour_type(df)"
   ]
  },
  {
   "cell_type": "code",
   "execution_count": 28,
   "metadata": {},
   "outputs": [
    {
     "data": {
      "text/plain": [
       "array(['Immune_Cluster', 'Epithelial_Cluster', 'Ignore_from_analysis'],\n",
       "      dtype=object)"
      ]
     },
     "execution_count": 28,
     "metadata": {},
     "output_type": "execute_result"
    }
   ],
   "source": [
    "df.Name.unique()"
   ]
  },
  {
   "cell_type": "code",
   "execution_count": 37,
   "metadata": {},
   "outputs": [
    {
     "data": {
      "text/plain": [
       "Exemplar001_subset--unmicst_cell_1      NaN\n",
       "Exemplar001_subset--unmicst_cell_2      NaN\n",
       "Exemplar001_subset--unmicst_cell_3      NaN\n",
       "Exemplar001_subset--unmicst_cell_4      NaN\n",
       "Exemplar001_subset--unmicst_cell_5      NaN\n",
       "                                         ..\n",
       "Exemplar001_subset--unmicst_cell_3105   NaN\n",
       "Exemplar001_subset--unmicst_cell_3106   NaN\n",
       "Exemplar001_subset--unmicst_cell_3107   NaN\n",
       "Exemplar001_subset--unmicst_cell_3108   NaN\n",
       "Exemplar001_subset--unmicst_cell_3109   NaN\n",
       "Name: ROI, Length: 3109, dtype: float64"
      ]
     },
     "execution_count": 37,
     "metadata": {},
     "output_type": "execute_result"
    }
   ],
   "source": [
    "adata.obs.ROI"
   ]
  },
  {
   "cell_type": "code",
   "execution_count": 38,
   "metadata": {},
   "outputs": [
    {
     "data": {
      "text/html": [
       "<div>\n",
       "<style scoped>\n",
       "    .dataframe tbody tr th:only-of-type {\n",
       "        vertical-align: middle;\n",
       "    }\n",
       "\n",
       "    .dataframe tbody tr th {\n",
       "        vertical-align: top;\n",
       "    }\n",
       "\n",
       "    .dataframe thead th {\n",
       "        text-align: right;\n",
       "    }\n",
       "</style>\n",
       "<table border=\"1\" class=\"dataframe\">\n",
       "  <thead>\n",
       "    <tr style=\"text-align: right;\">\n",
       "      <th></th>\n",
       "      <th>id</th>\n",
       "      <th>objectType</th>\n",
       "      <th>classification</th>\n",
       "      <th>geometry</th>\n",
       "      <th>Name</th>\n",
       "    </tr>\n",
       "  </thead>\n",
       "  <tbody>\n",
       "    <tr>\n",
       "      <th>0</th>\n",
       "      <td>6fbbca87-42f3-4633-ab10-87a6e88c77ad</td>\n",
       "      <td>annotation</td>\n",
       "      <td>{'name': 'Immune_Cluster', 'color': [55, 46, 21]}</td>\n",
       "      <td>POLYGON ((852.00000 400.00000, 850.00000 401.0...</td>\n",
       "      <td>Immune_Cluster</td>\n",
       "    </tr>\n",
       "    <tr>\n",
       "      <th>1</th>\n",
       "      <td>6a957ec1-4a70-4886-af48-2dfa302b7456</td>\n",
       "      <td>annotation</td>\n",
       "      <td>{'name': 'Immune_Cluster', 'color': [55, 46, 21]}</td>\n",
       "      <td>POLYGON ((953.00000 598.00000, 951.00000 599.0...</td>\n",
       "      <td>Immune_Cluster</td>\n",
       "    </tr>\n",
       "    <tr>\n",
       "      <th>2</th>\n",
       "      <td>7eb79eb4-241f-4929-a4c9-3a83623df6a0</td>\n",
       "      <td>annotation</td>\n",
       "      <td>{'name': 'Immune_Cluster', 'color': [55, 46, 21]}</td>\n",
       "      <td>POLYGON ((679.00000 644.00000, 677.00000 645.0...</td>\n",
       "      <td>Immune_Cluster</td>\n",
       "    </tr>\n",
       "    <tr>\n",
       "      <th>3</th>\n",
       "      <td>a09a6107-ffe2-4190-a131-f8553e24fa8d</td>\n",
       "      <td>annotation</td>\n",
       "      <td>{'name': 'Epithelial_Cluster', 'color': [42, 2...</td>\n",
       "      <td>POLYGON ((305.00000 204.00000, 304.00000 204.5...</td>\n",
       "      <td>Epithelial_Cluster</td>\n",
       "    </tr>\n",
       "    <tr>\n",
       "      <th>4</th>\n",
       "      <td>89e85395-65dd-438b-9231-ba2160e22081</td>\n",
       "      <td>annotation</td>\n",
       "      <td>{'name': 'Epithelial_Cluster', 'color': [42, 2...</td>\n",
       "      <td>POLYGON ((133.00000 607.00000, 126.00000 608.0...</td>\n",
       "      <td>Epithelial_Cluster</td>\n",
       "    </tr>\n",
       "  </tbody>\n",
       "</table>\n",
       "</div>"
      ],
      "text/plain": [
       "                                     id  objectType  \\\n",
       "0  6fbbca87-42f3-4633-ab10-87a6e88c77ad  annotation   \n",
       "1  6a957ec1-4a70-4886-af48-2dfa302b7456  annotation   \n",
       "2  7eb79eb4-241f-4929-a4c9-3a83623df6a0  annotation   \n",
       "3  a09a6107-ffe2-4190-a131-f8553e24fa8d  annotation   \n",
       "4  89e85395-65dd-438b-9231-ba2160e22081  annotation   \n",
       "\n",
       "                                      classification  \\\n",
       "0  {'name': 'Immune_Cluster', 'color': [55, 46, 21]}   \n",
       "1  {'name': 'Immune_Cluster', 'color': [55, 46, 21]}   \n",
       "2  {'name': 'Immune_Cluster', 'color': [55, 46, 21]}   \n",
       "3  {'name': 'Epithelial_Cluster', 'color': [42, 2...   \n",
       "4  {'name': 'Epithelial_Cluster', 'color': [42, 2...   \n",
       "\n",
       "                                            geometry                Name  \n",
       "0  POLYGON ((852.00000 400.00000, 850.00000 401.0...      Immune_Cluster  \n",
       "1  POLYGON ((953.00000 598.00000, 951.00000 599.0...      Immune_Cluster  \n",
       "2  POLYGON ((679.00000 644.00000, 677.00000 645.0...      Immune_Cluster  \n",
       "3  POLYGON ((305.00000 204.00000, 304.00000 204.5...  Epithelial_Cluster  \n",
       "4  POLYGON ((133.00000 607.00000, 126.00000 608.0...  Epithelial_Cluster  "
      ]
     },
     "execution_count": 38,
     "metadata": {},
     "output_type": "execute_result"
    }
   ],
   "source": [
    "df.head()"
   ]
  },
  {
   "cell_type": "code",
   "execution_count": 53,
   "metadata": {},
   "outputs": [
    {
     "ename": "IndentationError",
     "evalue": "unexpected indent (1960306730.py, line 2)",
     "output_type": "error",
     "traceback": [
      "\u001b[1;36m  Cell \u001b[1;32mIn[53], line 2\u001b[1;36m\u001b[0m\n\u001b[1;33m    adata.obs['ROI'] = \"Unclassified\" #works\u001b[0m\n\u001b[1;37m    ^\u001b[0m\n\u001b[1;31mIndentationError\u001b[0m\u001b[1;31m:\u001b[0m unexpected indent\n"
     ]
    }
   ],
   "source": [
    "#def annotate_cells_by_ROI(adata, df):\n",
    "    adata.obs['ROI'] = \"Unclassified\" #works\n",
    "    cellpoints = geopandas.points_from_xy(adata.obs.X_centroid, adata.obs.Y_centroid) #works\n",
    "    for cell_in_adata in adata.obs.index: #for each cell in the adata\n",
    "        for Qupath_Annotation in df.index: #for each row in the ROI table\n",
    "            if df.geometry[Qupath_Annotation].contains(cellpoints[cell_in_adata]): #if the cell is in the ROI\n",
    "                adata.obs.at[cell_in_adata,'ROI'] = df.Name[Qupath_Annotation] #add the ROI name to the adata  \n",
    "    #return(adata)\n",
    "    "
   ]
  },
  {
   "cell_type": "code",
   "execution_count": 79,
   "metadata": {},
   "outputs": [],
   "source": [
    "#def annotate_cells_by_ROI(adata, df):\n",
    "adata.obs['ROI'] = \"Unclassified\" #works\n",
    "cellpoints = geopandas.points_from_xy(adata.obs.X_centroid, adata.obs.Y_centroid) #works\n",
    "for cell_point,adata_row in zip(cellpoints,adata.obs.index): #for each cell in the adata\n",
    "    for Qupath_Annotation in df.index: #for each row in the ROI table\n",
    "        if df.geometry[Qupath_Annotation].contains(cell_point):\n",
    "            adata.obs.at[adata_row,'ROI'] = df.Name[Qupath_Annotation]\n",
    "    "
   ]
  },
  {
   "cell_type": "code",
   "execution_count": 80,
   "metadata": {},
   "outputs": [
    {
     "data": {
      "text/plain": [
       "array(['Unclassified', 'Epithelial_Cluster', 'Ignore_from_analysis',\n",
       "       'Immune_Cluster'], dtype=object)"
      ]
     },
     "execution_count": 80,
     "metadata": {},
     "output_type": "execute_result"
    }
   ],
   "source": [
    "adata.obs.ROI.unique()"
   ]
  },
  {
   "cell_type": "code",
   "execution_count": 69,
   "metadata": {},
   "outputs": [
    {
     "name": "stdout",
     "output_type": "stream",
     "text": [
      "True\n",
      "False\n",
      "False\n",
      "False\n",
      "False\n",
      "False\n",
      "False\n"
     ]
    }
   ],
   "source": [
    "for Qupath_Annotation in df.index:\n",
    "    print(df['geometry'][Qupath_Annotation].contains(cellpoints[1225]))"
   ]
  },
  {
   "cell_type": "code",
   "execution_count": 70,
   "metadata": {},
   "outputs": [
    {
     "name": "stdout",
     "output_type": "stream",
     "text": [
      "yes\n"
     ]
    }
   ],
   "source": [
    "for \n",
    "for Qupath_Annotation in df.index:\n",
    "    if df['geometry'][Qupath_Annotation].contains(cellpoints[1225]):\n",
    "        print('yes')"
   ]
  },
  {
   "cell_type": "code",
   "execution_count": 63,
   "metadata": {},
   "outputs": [
    {
     "data": {
      "image/svg+xml": [
       "<svg xmlns=\"http://www.w3.org/2000/svg\" xmlns:xlink=\"http://www.w3.org/1999/xlink\" width=\"119.3599999999999\" height=\"180.35999999999996\" viewBox=\"796.32 393.32 119.3599999999999 180.35999999999996\" preserveAspectRatio=\"xMinYMin meet\"><g transform=\"matrix(1,0,0,-1,0,967.0)\"><path fill-rule=\"evenodd\" fill=\"#66cc99\" stroke=\"#555555\" stroke-width=\"2.0\" opacity=\"0.6\" d=\"M 852.0,400.0 L 850.0,401.0 L 849.0,401.0 L 847.0,402.0 L 837.0,407.0 L 835.0,408.0 L 834.0,409.0 L 830.0,411.0 L 829.0,413.0 L 828.0,415.0 L 827.0,417.0 L 826.0,418.0 L 825.0,419.0 L 824.0,421.0 L 823.0,423.0 L 821.0,425.0 L 820.67,425.66 L 820.0,426.0 L 816.0,434.0 L 815.0,435.99 L 813.0,437.0 L 807.0,449.0 L 807.0,450.0 L 806.0,452.0 L 806.0,453.0 L 806.0,455.0 L 806.0,456.0 L 806.0,457.0 L 806.0,458.0 L 806.0,459.0 L 806.0,460.0 L 806.0,461.0 L 806.0,463.0 L 806.0,464.0 L 806.0,465.0 L 806.0,466.0 L 806.0,467.0 L 806.0,468.0 L 806.0,469.0 L 806.0,470.0 L 805.0,472.0 L 804.0,476.0 L 803.0,478.0 L 803.0,480.0 L 803.0,481.0 L 803.0,482.0 L 803.0,483.0 L 803.0,484.0 L 803.0,485.0 L 803.0,487.0 L 803.0,488.0 L 803.0,489.0 L 803.0,490.0 L 803.0,491.0 L 803.0,492.0 L 803.0,493.0 L 803.0,494.0 L 803.0,495.0 L 803.0,496.0 L 803.0,497.0 L 803.0,498.0 L 803.0,500.0 L 803.0,502.0 L 803.0,503.0 L 803.0,504.0 L 804.0,506.0 L 805.0,508.0 L 805.5,509.0 L 806.0,511.0 L 807.0,514.0 L 809.0,518.0 L 810.0,519.5 L 810.0,520.0 L 810.0,521.0 L 810.0,522.0 L 810.0,523.0 L 811.0,525.0 L 811.0,526.0 L 811.5,527.0 L 812.0,529.0 L 813.0,531.0 L 814.0,532.0 L 817.0,538.0 L 818.0,540.0 L 818.67,540.34 L 820.0,543.0 L 821.0,544.0 L 822.0,546.0 L 824.0,548.0 L 826.0,550.0 L 828.0,551.0 L 829.0,552.0 L 839.0,557.0 L 841.0,558.0 L 843.0,559.0 L 847.0,560.0 L 849.0,561.0 L 850.0,561.0 L 852.0,562.0 L 854.0,563.0 L 856.0,563.0 L 858.0,564.0 L 876.0,564.0 L 878.0,565.0 L 879.0,565.0 L 880.0,566.0 L 881.0,566.0 L 883.0,567.0 L 891.0,567.0 L 893.0,566.0 L 894.0,566.0 L 895.0,565.0 L 896.0,565.0 L 898.0,564.0 L 899.0,564.0 L 901.0,562.0 L 903.0,561.0 L 904.0,559.0 L 906.0,557.0 L 906.0,556.0 L 907.0,554.0 L 907.0,553.0 L 908.0,552.0 L 908.0,551.0 L 909.0,549.0 L 909.0,545.0 L 909.0,544.0 L 909.0,541.0 L 909.0,540.0 L 908.5,539.0 L 908.0,537.0 L 907.0,535.0 L 907.0,534.0 L 907.0,533.0 L 907.0,532.0 L 907.0,531.0 L 907.0,530.0 L 907.0,529.0 L 907.0,528.0 L 907.0,526.0 L 907.0,525.0 L 907.0,524.0 L 907.0,523.0 L 907.0,522.0 L 907.0,521.0 L 907.0,520.0 L 906.0,518.0 L 906.0,517.0 L 906.0,516.0 L 906.0,513.0 L 906.0,512.0 L 906.0,510.0 L 906.0,508.0 L 905.0,506.0 L 905.0,505.0 L 905.0,504.0 L 904.0,502.0 L 904.0,500.0 L 903.0,498.0 L 903.0,496.0 L 903.0,494.0 L 903.0,493.0 L 903.0,492.0 L 903.0,491.0 L 902.0,489.0 L 902.0,488.0 L 902.0,487.0 L 902.0,486.0 L 901.0,484.0 L 900.0,480.0 L 899.0,478.0 L 897.0,476.0 L 896.0,474.0 L 895.0,472.0 L 894.33,471.67 L 894.0,471.0 L 894.0,470.0 L 894.0,469.0 L 894.0,468.0 L 894.0,467.0 L 894.0,465.0 L 894.0,464.0 L 894.0,463.0 L 894.0,462.0 L 894.0,461.0 L 894.0,458.0 L 894.0,457.0 L 894.0,455.0 L 894.0,454.0 L 894.0,453.0 L 894.0,450.0 L 894.0,446.0 L 894.0,445.0 L 894.0,443.0 L 893.0,441.0 L 893.0,440.0 L 893.0,438.0 L 892.0,436.0 L 892.0,434.0 L 890.0,430.0 L 889.5,429.0 L 889.0,427.0 L 888.0,425.0 L 887.0,424.0 L 886.5,423.0 L 886.0,421.0 L 884.0,417.0 L 882.0,414.0 L 881.0,412.0 L 879.67,411.33 L 879.0,410.0 L 878.0,409.0 L 877.0,408.0 L 876.33,407.66 L 876.0,407.0 L 875.0,406.0 L 863.0,400.0 L 852.0,400.0 z\" /></g></svg>"
      ],
      "text/plain": [
       "<shapely.geometry.polygon.Polygon at 0x1e1ce0c2f10>"
      ]
     },
     "execution_count": 63,
     "metadata": {},
     "output_type": "execute_result"
    }
   ],
   "source": [
    "df['geometry'][0]"
   ]
  },
  {
   "cell_type": "code",
   "execution_count": 51,
   "metadata": {},
   "outputs": [
    {
     "ename": "IndexError",
     "evalue": "only integers, slices (`:`), ellipsis (`...`), numpy.newaxis (`None`) and integer or boolean arrays are valid indices",
     "output_type": "error",
     "traceback": [
      "\u001b[1;31m---------------------------------------------------------------------------\u001b[0m",
      "\u001b[1;31mIndexError\u001b[0m                                Traceback (most recent call last)",
      "Cell \u001b[1;32mIn[51], line 1\u001b[0m\n\u001b[1;32m----> 1\u001b[0m annotate_cells_by_ROI(adata, df)\n",
      "Cell \u001b[1;32mIn[50], line 6\u001b[0m, in \u001b[0;36mannotate_cells_by_ROI\u001b[1;34m(adata, df)\u001b[0m\n\u001b[0;32m      4\u001b[0m \u001b[39mfor\u001b[39;00m cell_in_adata \u001b[39min\u001b[39;00m adata\u001b[39m.\u001b[39mobs\u001b[39m.\u001b[39mindex: \u001b[39m#for each cell in the adata\u001b[39;00m\n\u001b[0;32m      5\u001b[0m     \u001b[39mfor\u001b[39;00m Qupath_Annotation \u001b[39min\u001b[39;00m df\u001b[39m.\u001b[39mindex: \u001b[39m#for each row in the ROI table\u001b[39;00m\n\u001b[1;32m----> 6\u001b[0m         \u001b[39mif\u001b[39;00m df\u001b[39m.\u001b[39mgeometry[Qupath_Annotation]\u001b[39m.\u001b[39mcontains(cellpoints[cell_in_adata])\u001b[39m==\u001b[39m\u001b[39mTrue\u001b[39;00m: \u001b[39m#if the cell is in the ROI\u001b[39;00m\n\u001b[0;32m      7\u001b[0m             adata\u001b[39m.\u001b[39mobs\u001b[39m.\u001b[39mat[cell_in_adata,\u001b[39m'\u001b[39m\u001b[39mROI\u001b[39m\u001b[39m'\u001b[39m] \u001b[39m=\u001b[39m df\u001b[39m.\u001b[39mName[Qupath_Annotation] \u001b[39m#add the ROI name to the adata  \u001b[39;00m\n\u001b[0;32m      8\u001b[0m \u001b[39mreturn\u001b[39;00m(adata)\n",
      "File \u001b[1;32mc:\\Users\\jnimoca\\Jose_BI\\Anaconda\\envs\\scimap5\\lib\\site-packages\\geopandas\\array.py:368\u001b[0m, in \u001b[0;36mGeometryArray.__getitem__\u001b[1;34m(self, idx)\u001b[0m\n\u001b[0;32m    364\u001b[0m \u001b[39m# array-like, slice\u001b[39;00m\n\u001b[0;32m    365\u001b[0m \u001b[39m# validate and convert IntegerArray/BooleanArray\u001b[39;00m\n\u001b[0;32m    366\u001b[0m \u001b[39m# to numpy array, pass-through non-array-like indexers\u001b[39;00m\n\u001b[0;32m    367\u001b[0m idx \u001b[39m=\u001b[39m pd\u001b[39m.\u001b[39mapi\u001b[39m.\u001b[39mindexers\u001b[39m.\u001b[39mcheck_array_indexer(\u001b[39mself\u001b[39m, idx)\n\u001b[1;32m--> 368\u001b[0m \u001b[39mreturn\u001b[39;00m GeometryArray(\u001b[39mself\u001b[39;49m\u001b[39m.\u001b[39;49mdata[idx], crs\u001b[39m=\u001b[39m\u001b[39mself\u001b[39m\u001b[39m.\u001b[39mcrs)\n",
      "\u001b[1;31mIndexError\u001b[0m: only integers, slices (`:`), ellipsis (`...`), numpy.newaxis (`None`) and integer or boolean arrays are valid indices"
     ]
    }
   ],
   "source": [
    "annotate_cells_by_ROI(adata, df)"
   ]
  },
  {
   "cell_type": "code",
   "execution_count": null,
   "metadata": {},
   "outputs": [],
   "source": [
    "if df.geometry[Qupath_Annotation].contains(cellpoints[cell_in_adata]):\n",
    "                adata.obs.at[cell_in_adata,'ROI'] = df.Name[Qupath_Annotation]"
   ]
  },
  {
   "cell_type": "code",
   "execution_count": 39,
   "metadata": {},
   "outputs": [],
   "source": [
    "cellpoints = geopandas.points_from_xy(adata.obs.X_centroid, adata.obs.Y_centroid)"
   ]
  },
  {
   "cell_type": "code",
   "execution_count": 45,
   "metadata": {},
   "outputs": [
    {
     "name": "stdout",
     "output_type": "stream",
     "text": [
      "no\n"
     ]
    }
   ],
   "source": [
    "if df.geometry[0].contains(cellpoints[90]):\n",
    "    print('yes')\n",
    "else:\n",
    "    print('no')"
   ]
  },
  {
   "cell_type": "code",
   "execution_count": 34,
   "metadata": {},
   "outputs": [
    {
     "ename": "IndexError",
     "evalue": "only integers, slices (`:`), ellipsis (`...`), numpy.newaxis (`None`) and integer or boolean arrays are valid indices",
     "output_type": "error",
     "traceback": [
      "\u001b[1;31m---------------------------------------------------------------------------\u001b[0m",
      "\u001b[1;31mIndexError\u001b[0m                                Traceback (most recent call last)",
      "Cell \u001b[1;32mIn[34], line 1\u001b[0m\n\u001b[1;32m----> 1\u001b[0m annotate_cells_by_ROI(adata, df)\n",
      "Cell \u001b[1;32mIn[33], line 6\u001b[0m, in \u001b[0;36mannotate_cells_by_ROI\u001b[1;34m(adata, df)\u001b[0m\n\u001b[0;32m      4\u001b[0m \u001b[39mfor\u001b[39;00m Qupath_Annotation \u001b[39min\u001b[39;00m df\u001b[39m.\u001b[39mindex:\n\u001b[0;32m      5\u001b[0m     \u001b[39mfor\u001b[39;00m cell_in_adata \u001b[39min\u001b[39;00m adata\u001b[39m.\u001b[39mobs\u001b[39m.\u001b[39mindex:\n\u001b[1;32m----> 6\u001b[0m         \u001b[39mif\u001b[39;00m df\u001b[39m.\u001b[39mgeometry[Qupath_Annotation]\u001b[39m.\u001b[39mcontains(cellpoints[cell_in_adata]):\n\u001b[0;32m      7\u001b[0m             adata\u001b[39m.\u001b[39mobs\u001b[39m.\u001b[39mat[cell_in_adata,\u001b[39m'\u001b[39m\u001b[39mROI\u001b[39m\u001b[39m'\u001b[39m] \u001b[39m=\u001b[39m df\u001b[39m.\u001b[39mName[Qupath_Annotation]\n\u001b[0;32m      8\u001b[0m \u001b[39mreturn\u001b[39;00m(adata)\n",
      "File \u001b[1;32mc:\\Users\\jnimoca\\Jose_BI\\Anaconda\\envs\\scimap5\\lib\\site-packages\\geopandas\\array.py:368\u001b[0m, in \u001b[0;36mGeometryArray.__getitem__\u001b[1;34m(self, idx)\u001b[0m\n\u001b[0;32m    364\u001b[0m \u001b[39m# array-like, slice\u001b[39;00m\n\u001b[0;32m    365\u001b[0m \u001b[39m# validate and convert IntegerArray/BooleanArray\u001b[39;00m\n\u001b[0;32m    366\u001b[0m \u001b[39m# to numpy array, pass-through non-array-like indexers\u001b[39;00m\n\u001b[0;32m    367\u001b[0m idx \u001b[39m=\u001b[39m pd\u001b[39m.\u001b[39mapi\u001b[39m.\u001b[39mindexers\u001b[39m.\u001b[39mcheck_array_indexer(\u001b[39mself\u001b[39m, idx)\n\u001b[1;32m--> 368\u001b[0m \u001b[39mreturn\u001b[39;00m GeometryArray(\u001b[39mself\u001b[39;49m\u001b[39m.\u001b[39;49mdata[idx], crs\u001b[39m=\u001b[39m\u001b[39mself\u001b[39m\u001b[39m.\u001b[39mcrs)\n",
      "\u001b[1;31mIndexError\u001b[0m: only integers, slices (`:`), ellipsis (`...`), numpy.newaxis (`None`) and integer or boolean arrays are valid indices"
     ]
    }
   ],
   "source": [
    "annotate_cells_by_ROI(adata, df)"
   ]
  },
  {
   "cell_type": "code",
   "execution_count": 30,
   "metadata": {},
   "outputs": [
    {
     "data": {
      "text/plain": [
       "AnnData object with n_obs × n_vars = 3109 × 9\n",
       "    obs: 'X_centroid', 'Y_centroid', 'Area', 'MajorAxisLength', 'MinorAxisLength', 'Eccentricity', 'Solidity', 'Extent', 'Orientation', 'CellID', 'imageid', 'Immune_Cluster', 'Epithelial_Cluster', 'Ignore_from_analysis'\n",
       "    uns: 'all_markers'"
      ]
     },
     "execution_count": 30,
     "metadata": {},
     "output_type": "execute_result"
    }
   ],
   "source": [
    "adata"
   ]
  }
 ],
 "metadata": {
  "kernelspec": {
   "display_name": "scimap3",
   "language": "python",
   "name": "python3"
  },
  "language_info": {
   "codemirror_mode": {
    "name": "ipython",
    "version": 3
   },
   "file_extension": ".py",
   "mimetype": "text/x-python",
   "name": "python",
   "nbconvert_exporter": "python",
   "pygments_lexer": "ipython3",
   "version": "3.8.16"
  },
  "orig_nbformat": 4
 },
 "nbformat": 4,
 "nbformat_minor": 2
}
